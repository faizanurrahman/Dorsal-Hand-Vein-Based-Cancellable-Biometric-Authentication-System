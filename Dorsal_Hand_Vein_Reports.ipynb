{
  "nbformat": 4,
  "nbformat_minor": 0,
  "metadata": {
    "colab": {
      "name": "Dorsal Hand Vein Reports.ipynb",
      "provenance": [],
      "include_colab_link": true
    },
    "kernelspec": {
      "display_name": "Python 3",
      "language": "python",
      "name": "python3"
    },
    "language_info": {
      "codemirror_mode": {
        "name": "ipython",
        "version": 3
      },
      "file_extension": ".py",
      "mimetype": "text/x-python",
      "name": "python",
      "nbconvert_exporter": "python",
      "pygments_lexer": "ipython3",
      "version": "3.6.5rc1"
    }
  },
  "cells": [
    {
      "cell_type": "markdown",
      "metadata": {
        "id": "view-in-github",
        "colab_type": "text"
      },
      "source": [
        "<a href=\"https://colab.research.google.com/github/faizanurrahman/Dorsal-Hand-Vein-Based-Cancellable-Biometric-Authentication-System/blob/master/Dorsal_Hand_Vein_Reports.ipynb\" target=\"_parent\"><img src=\"https://colab.research.google.com/assets/colab-badge.svg\" alt=\"Open In Colab\"/></a>"
      ]
    },
    {
      "cell_type": "markdown",
      "metadata": {
        "id": "G9B01DM58ucV",
        "colab_type": "text"
      },
      "source": [
        "# Dorsal Hand vein base cancellable biometric authentication\n",
        "## Table of content\n",
        "1. Introduction\n",
        " 1. Biometric System\n",
        " 1. Cancellable Biometrics\n",
        " 1. Reasearch Gap and Motivation\n",
        " 1. Contribution\n",
        "1. Data Preprocessing and Feature Extraction\n",
        " 1. About Dataset\n",
        " 1. Hair Removal from image\n",
        " 1. Vein extraction\n",
        "1. classification"
      ]
    },
    {
      "cell_type": "markdown",
      "metadata": {
        "id": "WV3l1V0r8ucY",
        "colab_type": "text"
      },
      "source": [
        "# 1. Introduction\n",
        "Biometrics is an excellent system for security, which is used in various platforms such as industry, banking, mobile phones, presence, etc. Currently, various methods of biometric systems are used such as fingerprints, iris scans, voice recognition, retinal scans, face recognition, etc. being an excellent method for unique identification as well as the risk of compromising it Produces. Biometrics systems like fingerprints can be easily hacked by copying your fingerprints from a glass panel, or other places, and this system can be hacked repeatedly using easy techniques like Sticky Bear fingerprints. Therefore, we are trying to develop a biometric authentication system based on the idea of ​​\"cancelable biometrics\" using template security approaches, which are revokable.\n",
        "\n",
        "### A. Biometric System\n",
        "Biometric authentication is a process that relies on a person's specific biological characteristics to verify his or her identity. In biometric authentication, a person's biometric information is captured and matched to the biometric already stored in the database. If both data (captured and stored) match, authentication is confirmed.\n",
        "\n",
        "Biometric authentication is the most effective and secure authentication system, because a person's biological information is unique, and it is also difficult to transfer from one person to another. It is possible that a person's password and unique ID can be stolen and leaked but biological information is always safe, and cannot be leaked and stolen.\n",
        "\n",
        "### B. Cancellable Biometrics\n",
        "Since biometric authentication is widely used in the authentication systems in various departments, and biometric information is stored digitally in databases. So there is a possibility that anyone can attack the database and steal user's biological information. , And use them for unfair means. To avoid such attacks and secure our data, we will use the Cancellabale biometric authentication system. In a revocable biometric system, we intentionally repeatedly distort biometric characteristics to protect the user's biological information.\n",
        "\n",
        "A template is used to distort the feature by which the main feature is converted into some other information. After using this revocable biometric, when an attacker tries to steal data, the attacker will only get a piece of malformed information from the database and the original data information will be protected.\n",
        "\n",
        "### C. Research Gap and Motivation\n",
        "After analyzing the literature reviews, we came to know the following research gaps and motivations, which are listed below.\n",
        "\n",
        "- The dorsal veins are novel biometric features, they are very safe compared to thumbprints, and other biometric features, and are very difficult to fool. The characteristic of the dorsal vein also tells us about the livelihood of the person.  As the device captures the image of the dorsal vein using infrared light, compared to oxygenated hemoglobin, deoxidized hemoglobin absorbs light at a wavelength of about 760nm, which is in the range of the near-infrared (NIR) band. Therefore, when the dorsal hand is illuminated with near-infrared light, deoxidized hemoglobin absorbs light and appears as a dark pattern in the dorsal image. If a person is not alive, the blood will not oxidize, and the vein pattern will not be captured.\n",
        "\n",
        "- We have seen in the literature review, the dorsal vein authentication started in 2010, which is a very new technology for authentication, and biometric authentication systems have not contributed much to this area.\n",
        "\n",
        "- From the literature, we have seen that there is a security technology called \"cancellable feature\" that provides a batter and safe biometric system.\n",
        "\n",
        "This forms our motivation for biometric identification of dorsal veins for efficient feature extraction, as well as its template preservation using cancellable geometric technology.\n",
        "\n",
        "### D. Contribution\n",
        "Four important contributions have been made to this work, which is described as follows.\n",
        "\n",
        "- The current cancelable biometric technique was studied and implemented by Harkirat Kaur and Preeti Khanna (2017). I applied this paper to Python and explored aspects of practical implementation, to understand the concept and work of a cancelable biometric system.\n",
        "\n",
        "- Extract the feature from the Dorsal Hand Vein. To improve the image content of the dorsal vein, preprocessing is required, because, in the normal dorsal vein image, many redundant features can reduce the quality of the required features. Since the presence of hair on the hands is a drawback for the features extraction technique. To improve the quality of the dorsal vein we specified a technique for hair extraction using a *Mexican Hat Filter*. Also, I applied the technique of maximum curvature method from a paper, for efficient dorsal vein extraction.\n",
        "\n",
        "- Provide template protection to dorsal vein features using an XOR-based revocable biometric template transformation scheme.\n",
        "\n",
        "- Applied the Colonel Fisher Discriminant Analysis (KFA) for classification."
      ]
    },
    {
      "cell_type": "markdown",
      "metadata": {
        "id": "uhgtVIrE8uca",
        "colab_type": "text"
      },
      "source": [
        "# 2. Data Preprocessing and Feature Extraction\n",
        "\n",
        "### A. About Dataset\n",
        "\n",
        "The database of dorsal hand images was obtained from a hardware device, developed for the Privacy Enhancing Revocable Biometric Identities (PERBI) project at IVE Lab, and the project is funded by BERNS. This device has been developed for an outdoor industrial project, so we cannot show the image of the device.\n",
        "We collected 750 high-resolution image datasets of 75 people, with 10 samples per person of size 400 × 400 pixels.\n",
        "\n",
        "\n",
        "All image follow some common statistical property as shown below.\n",
        "1. Grayscale Image, 1-channel\n",
        "1. Unimodel Histogram\n",
        "1. Minimum Pixel Intensity - $31$($\\pm 5$)\n",
        "1. Maximum Pixel Intensity - $211$($\\pm 5$)\n",
        "1. Mean - $154.702$($\\pm 10$)\n",
        "1. Variance - $1044.885$($\\pm 50$)\n",
        "1. Skewness - $-1.04$($\\pm 0.5$)\n",
        "1. Kurthosis - $1.505$($\\pm 0.5$)\n",
        "\n",
        "### B. Hair Removal From Image\n",
        "\n",
        "To remove hair from image, I smooth the image with maxican hat filter.\n"
      ]
    },
    {
      "cell_type": "markdown",
      "metadata": {
        "colab_type": "text",
        "id": "7AMrpGq7OVmn"
      },
      "source": [
        "\n",
        "# Dorsal Hand vein base cancellable biometric authentication\n",
        "\n",
        "# 1.  Introduction\n",
        "\n",
        "\n",
        "In this method, I examine the cross-sectional profile of the dorsal vein image to extract vein positions with varying widths and intensities.\n",
        "\n",
        "Because the cross-sectional profile of the vein pattern is downward, the image of the dorsal hand has a lower pixel intensity of the veins than the surrounding skin.\n",
        "\n",
        "To determine vein position based on first-order or higher-order statistics, the local threshold is set either side of the local profile, but the vein quality is drastically reduced due to the presence of noise in the data.\n",
        "\n",
        "So to solve this problem, N. Miura, A. Nagasaka, and T. Miyatek Et. Al. Has proposed a method to extract features using the maximum curvature method.\n",
        "\n",
        "In this method, the local maximum curvature is calculated in the cross-sectional profile of all four directions, then selecting the profile that has the maximum depth in the cross-sectional profile. And then to get the full pattern of nerves we add, The result of four directions.\n",
        "\n",
        "Miura et al. Proposed a three-step algorithm to solve the above problem.\n",
        "\n",
        "# Step in Algorithms:\n",
        "- **Extraction of the center positions of veins.**\n",
        "\n",
        "- **Connection of the center positions.**\n",
        "\n",
        "- **Labeling of the image.**\n",
        "\n",
        "\n",
        "\n",
        "**Extraction of the center positions of veins**\n",
        "\n",
        "\n",
        "Since we have images of various vein patterns with different widths and intensities. For the extraction of the centerline of the vein, we used the cross-sectional profile of the vein in our method. First, we computed the depth and width and then each local cross-sectional profile is assigned a probabilistic score based on the depth and width amount. A large value of score showing a very large dent profile. In other words, the position of the center of the hand vein can be extracted by calculating the local maximum curvature in the cross-sectional profile.\n",
        "\n",
        "The details are described below:\n",
        "\n",
        "\n",
        "\n",
        "### [Step 1-1] Calculation of the curvatures of profiles\n",
        "To get the profile in a particular direction we need to convolve the image with that direction filter. After obtaining the profile we feed this profile into the kappa function as defined in the maximum curvature method paper. This kappa function takes a profile line as input and returns a new profile line. If the return value in the kappa function is positive, it means that the input profile is concave upward, else if the return value is negative then the input profile is concave downward.\n",
        "\n",
        "\n",
        "\n",
        "$$ kappa(z) = \\frac{d^2P_f(z)/d_z^2}{(1 + (dP_f(z))/d_z^2)^\\frac{3}{2}} $$\n",
        "\n",
        "\n",
        "### [Step 1-2] Detection of the centers of veins\n",
        "\n",
        "To calculate the center position, we follow the steps given below, once the curvature is calculated.\n",
        "\n",
        "For each array in arrays of curvature:\n",
        "1. First, we create a binary array by thresholding the original array.\n",
        "2. We create a new array, which is moved by a pixel in the right direction of the threshold array.\n",
        "3. Subtract the new array from the threshold array and get another new array.\n",
        "4. When the value of the subtracted array is positive, it means that it is the beginning of curvature, and when the value of the array is negative it means that it is the end of curvature,  we store all the starting and ending pairs. And the width of the curvature is measured by the length of the start end pair, and the depth of curvature is measured by the maximum value present at the location of the start end pairs in the original array. Finally, the location of the center is set by the midpoint of width.\n",
        "\n",
        "\n",
        "### [Step 1-3] Assignment of scores to the center position\n",
        "\n",
        "\n",
        "Each center position is assigned with a possible score indicating the presence of nerves. And this score is obtained by multiplying the width of curvature by the depth of curvature.\n",
        "\n",
        "\n",
        "### [Step 1-4] Calculation of all the profile\n",
        "\n",
        "\n",
        "To obtain the vein pattern spreading in an entire image, we take all possible centers present in each direction profile image. And then we assign a probabilistic score, to all four direction center positions of veins.\n",
        "\n",
        "### [Step 2] Connection of vein center\n",
        "\n",
        "After assigning the center score of all directions. We get a score of veins in discrete form, so we need to connect these centers and eliminate the noisy center.\n",
        "\n",
        "To connect the center position, to get a continues vein pattern, and to remove the noisy location of veins, we perform the following step- \n",
        "\n",
        "First, let's consider the horizontal direction, at any center location, say pixel(x, y),  We consider two neighbor pixels,  one in the right-hand side and another pixel on the left-hand side. If the value at both neighborhood right and left of the pixel(x,y) is large than the pixel value, then a horizontal line is drawn to form a continuous vein pattern, and if the values at both neighborhoods is less than the pixel(x,y),  it is than considered as a noise, in this case, pixel (x,y) value is set to zero. Similarly,  we calculate values in all directions to get continues patterns and remove noise.\n",
        "\n",
        "So, to connect the centers of veins and eliminate noise, the\n",
        "following filtering operation is conducted as follow.\n",
        "\n",
        "$$b[w] = min(max(a[w+1], a[w+2]) + max(a[w-1], a[w-2]))\n",
        "$$\n"
      ]
    },
    {
      "cell_type": "markdown",
      "metadata": {
        "id": "prZw2vWtIjHB",
        "colab_type": "text"
      },
      "source": [
        "\n",
        "### [Step 3] Labeling the image\n",
        "\n",
        "After connecting the veins center, we get a vein pattern in each direction. Then it is binarized using a median filter,  for each corresponding pixel location, we calculate the median value. If the corresponding pixel is smaller than the calculated median, then it is the part of the background, and if the value of the pixel is larger or equal to the calculated median than it is the part of the vein pattern. Finally, we merge all four direction patterns into one by the corresponding pixel is replaced by the calculated median value at vein location.\n",
        "\n",
        "## Impelimented Algorithm\n",
        "\n",
        "1. read image.\n",
        "1. remove hair from image.\n",
        "1. extract vein pattern\n",
        "1. perform xor on extracted vein pattern.\n",
        "1. perform classification\n",
        "\n"
      ]
    },
    {
      "cell_type": "markdown",
      "metadata": {
        "id": "Z0ImBFu_P-us",
        "colab_type": "text"
      },
      "source": [
        "\n",
        "## TEMPLATE TRANSFORMATION AND CLASSIFICATION\n",
        "\n",
        "to obtain cancelability, we applied template transformation on the features using the XOR-based technique proposed by Kaur and Khanna, 2016.\n",
        "\n",
        "The XOR Function-based technique is applied on extracted dorsal veins features by the following steps:- \n",
        "\n",
        "1) Let Fv is the original features of dimension [100,100]\n",
        "\n",
        "2) We generate a random grid(RG) of the dimension [100,100] the same size as the original feature.\n",
        "\n",
        "3) Performed bitwise XOR operation between original feature and RG\n",
        "\n",
        "4) Performed median filter on distorted features, to provide non-invertibility.\n",
        "\n",
        "\n"
      ]
    },
    {
      "cell_type": "code",
      "metadata": {
        "colab_type": "code",
        "id": "PTHwTSJOOMXS",
        "colab": {}
      },
      "source": [
        ""
      ],
      "execution_count": 0,
      "outputs": []
    }
  ]
}